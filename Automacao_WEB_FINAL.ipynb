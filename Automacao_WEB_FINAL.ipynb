{
 "cells": [
  {
   "cell_type": "markdown",
   "source": [
    "# Automação Web e Busca de Informações com Python\r\n",
    "\r\n",
    "Trabalhamos em uma importadora e o preço dos nossos produtos é vinculado a cotação de:\r\n",
    "- Dólar\r\n",
    "- Euro\r\n",
    "- Ouro\r\n",
    "\r\n",
    "-------------------------------\r\n",
    "- Usaremos o selenium\r\n",
    "- Importante: baixar o webdriver"
   ],
   "metadata": {}
  },
  {
   "cell_type": "code",
   "execution_count": null,
   "source": [
    "from selenium import webdriver\r\n",
    "from selenium.webdriver.common.keys import Keys\r\n",
    "\r\n",
    "# para rodar o chrome em 2º plano\r\n",
    "# from selenium.webdriver.chrome.options import Options\r\n",
    "# chrome_options = Options()\r\n",
    "# chrome_options.headless = True \r\n",
    "# navegador = webdriver.Chrome(options=chrome_options)\r\n",
    "\r\n",
    "# abrir um navegador\r\n",
    "navegador = webdriver.Chrome()\r\n",
    "\r\n",
    "navegador.get(\"https://www.google.com/\")\r\n",
    "\r\n",
    "# Passo 1: Pegar a cotação do Dólar\r\n",
    "navegador.find_element_by_xpath(\r\n",
    "    '/html/body/div[1]/div[3]/form/div[1]/div[1]/div[1]/div/div[2]/input').send_keys(\"cotação dólar\")\r\n",
    "\r\n",
    "navegador.find_element_by_xpath(\r\n",
    "    '/html/body/div[1]/div[3]/form/div[1]/div[1]/div[1]/div/div[2]/input').send_keys(Keys.ENTER)\r\n",
    "\r\n",
    "cotacao_dolar = navegador.find_element_by_xpath(\r\n",
    "    '//*[@id=\"knowledge-currency__updatable-data-column\"]/div[1]/div[2]/span[1]').get_attribute(\"data-value\") \r\n",
    "print(cotacao_dolar)\r\n",
    "\r\n",
    "# Passo 2: Pegar a cotação do Euro\r\n",
    "navegador.get(\"https://www.google.com/\")\r\n",
    "navegador.find_element_by_xpath(\r\n",
    "    '/html/body/div[1]/div[3]/form/div[1]/div[1]/div[1]/div/div[2]/input').send_keys(\"cotação euro\")\r\n",
    "navegador.find_element_by_xpath(\r\n",
    "    '/html/body/div[1]/div[3]/form/div[1]/div[1]/div[1]/div/div[2]/input').send_keys(Keys.ENTER)\r\n",
    "\r\n",
    "cotacao_euro = navegador.find_element_by_xpath(\r\n",
    "    '//*[@id=\"knowledge-currency__updatable-data-column\"]/div[1]/div[2]/span[1]').get_attribute(\"data-value\")\r\n",
    "print(cotacao_euro)\r\n",
    "\r\n",
    "# Passo 3: Pegar a cotação do Ouro\r\n",
    "navegador.get(\"https://www.melhorcambio.com/ouro-hoje\")\r\n",
    "\r\n",
    "cotacao_ouro = navegador.find_element_by_xpath('//*[@id=\"comercial\"]').get_attribute(\"value\")\r\n",
    "cotacao_ouro = cotacao_ouro.replace(\",\", \".\")\r\n",
    "print(cotacao_ouro)\r\n",
    "\r\n",
    "navegador.quit()"
   ],
   "outputs": [],
   "metadata": {}
  },
  {
   "cell_type": "markdown",
   "source": [
    "### Agora vamos atualiza a nossa base de preços com as novas cotações"
   ],
   "metadata": {}
  },
  {
   "cell_type": "markdown",
   "source": [
    "- Importando a base de dados"
   ],
   "metadata": {}
  },
  {
   "cell_type": "code",
   "execution_count": null,
   "source": [
    "# Passo 4: Importar a lista de produtos\r\n",
    "import pandas as pd\r\n",
    "\r\n",
    "tabela = pd.read_excel(\"Produtos.xlsx\")\r\n",
    "display(tabela)"
   ],
   "outputs": [],
   "metadata": {
    "scrolled": true
   }
  },
  {
   "cell_type": "markdown",
   "source": [
    "- Atualizando os preços e o cálculo do Preço Final"
   ],
   "metadata": {}
  },
  {
   "cell_type": "code",
   "execution_count": null,
   "source": [
    "# Passo 5: Recalcular o preço de cada produto\r\n",
    "# atualizar a cotação\r\n",
    "# nas linhas onde na coluna \"Moeda\" = Dólar\r\n",
    "tabela.loc[tabela[\"Moeda\"] == \"Dólar\", \"Cotação\"] = float(cotacao_dolar)\r\n",
    "tabela.loc[tabela[\"Moeda\"] == \"Euro\", \"Cotação\"] = float(cotacao_euro)\r\n",
    "tabela.loc[tabela[\"Moeda\"] == \"Ouro\", \"Cotação\"] = float(cotacao_ouro)\r\n",
    "\r\n",
    "# atualizar o preço base reais (preço base original * cotação)\r\n",
    "tabela[\"Preço de Compra\"] = tabela[\"Preço Base Original\"] * tabela[\"Cotação\"]\r\n",
    "\r\n",
    "# atualizar o preço final (preço base reais * Margem)\r\n",
    "tabela[\"Preço de Venda\"] = tabela[\"Preço de Compra\"] * tabela[\"Margem\"]\r\n",
    "\r\n",
    "# tabela[\"Preço de Venda\"] = tabela[\"Preço de Venda\"].map(\"R${:.2f}\".format)\r\n",
    "\r\n",
    "display(tabela)"
   ],
   "outputs": [],
   "metadata": {}
  },
  {
   "cell_type": "markdown",
   "source": [
    "### Agora vamos exportar a nova base de preços atualizada"
   ],
   "metadata": {}
  },
  {
   "cell_type": "code",
   "execution_count": 4,
   "source": [
    "# Passo 6: Salvar os novos preços dos produtos\r\n",
    "tabela.to_excel(\"Produtos Novo.xlsx\", index=False)"
   ],
   "outputs": [],
   "metadata": {}
  },
  {
   "cell_type": "code",
   "execution_count": null,
   "source": [],
   "outputs": [],
   "metadata": {}
  }
 ],
 "metadata": {
  "kernelspec": {
   "name": "python3",
   "display_name": "Python 3.8.8 64-bit ('base': conda)"
  },
  "language_info": {
   "codemirror_mode": {
    "name": "ipython",
    "version": 3
   },
   "file_extension": ".py",
   "mimetype": "text/x-python",
   "name": "python",
   "nbconvert_exporter": "python",
   "pygments_lexer": "ipython3",
   "version": "3.8.8"
  },
  "interpreter": {
   "hash": "7325d097ccd70609e1d65ec564648b6b5f03537f1333cdfa4841c8e9055624f3"
  }
 },
 "nbformat": 4,
 "nbformat_minor": 4
}